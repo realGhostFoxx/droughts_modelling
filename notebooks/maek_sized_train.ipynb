{
 "cells": [
  {
   "cell_type": "code",
   "execution_count": 3,
   "id": "bfd4bbad",
   "metadata": {},
   "outputs": [],
   "source": [
    "import pandas as pd\n",
    "import os"
   ]
  },
  {
   "cell_type": "code",
   "execution_count": 6,
   "id": "ab2d9b3c",
   "metadata": {},
   "outputs": [],
   "source": [
    "file_path = os.path.dirname(os.path.dirname(os.path.dirname(os.getcwd())))\n",
    "full_path_train = os.path.join(file_path,'realGhostFoxx','droughts_modelling', 'raw_data', 'train_timeseries.csv')"
   ]
  },
  {
   "cell_type": "code",
   "execution_count": 7,
   "id": "498d4070",
   "metadata": {},
   "outputs": [],
   "source": [
    "df = pd.read_csv(full_path_train)"
   ]
  },
  {
   "cell_type": "code",
   "execution_count": 8,
   "id": "42ac625d",
   "metadata": {},
   "outputs": [
    {
     "data": {
      "text/plain": [
       "array([ 1001,  1003,  1005, ..., 56039, 56041, 56043])"
      ]
     },
     "execution_count": 8,
     "metadata": {},
     "output_type": "execute_result"
    }
   ],
   "source": [
    "df.fips.unique()"
   ]
  },
  {
   "cell_type": "code",
   "execution_count": 15,
   "id": "cbc01247",
   "metadata": {},
   "outputs": [],
   "source": [
    "df_2 = df[df.fips <= 20000]"
   ]
  },
  {
   "cell_type": "code",
   "execution_count": 16,
   "id": "9a2ebbf8",
   "metadata": {},
   "outputs": [
    {
     "data": {
      "text/plain": [
       "(5303340, 21)"
      ]
     },
     "execution_count": 16,
     "metadata": {},
     "output_type": "execute_result"
    }
   ],
   "source": [
    "df_2.shape"
   ]
  },
  {
   "cell_type": "code",
   "execution_count": 17,
   "id": "02908c98",
   "metadata": {},
   "outputs": [
    {
     "data": {
      "text/plain": [
       "(19300680, 21)"
      ]
     },
     "execution_count": 17,
     "metadata": {},
     "output_type": "execute_result"
    }
   ],
   "source": [
    "df.shape"
   ]
  },
  {
   "cell_type": "code",
   "execution_count": 20,
   "id": "9fe6c738",
   "metadata": {},
   "outputs": [],
   "source": [
    "df_2.to_csv('micro_2.csv')"
   ]
  },
  {
   "cell_type": "code",
   "execution_count": null,
   "id": "f633b7c5",
   "metadata": {},
   "outputs": [],
   "source": []
  }
 ],
 "metadata": {
  "kernelspec": {
   "display_name": "droughts",
   "language": "python",
   "name": "droughts"
  },
  "language_info": {
   "codemirror_mode": {
    "name": "ipython",
    "version": 3
   },
   "file_extension": ".py",
   "mimetype": "text/x-python",
   "name": "python",
   "nbconvert_exporter": "python",
   "pygments_lexer": "ipython3",
   "version": "3.8.6"
  },
  "toc": {
   "base_numbering": 1,
   "nav_menu": {},
   "number_sections": true,
   "sideBar": true,
   "skip_h1_title": false,
   "title_cell": "Table of Contents",
   "title_sidebar": "Contents",
   "toc_cell": false,
   "toc_position": {},
   "toc_section_display": true,
   "toc_window_display": false
  }
 },
 "nbformat": 4,
 "nbformat_minor": 5
}
