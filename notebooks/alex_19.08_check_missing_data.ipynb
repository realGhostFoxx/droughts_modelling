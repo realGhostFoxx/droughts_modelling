{
 "cells": [
  {
   "cell_type": "code",
   "execution_count": 2,
   "id": "21f09266",
   "metadata": {},
   "outputs": [],
   "source": [
    "from droughts_modelling.data import train_last_2_years\n",
    "import pandas as pd\n",
    "import numpy as np\n",
    "import datetime as dt\n",
    "\n",
    "import seaborn as sns\n",
    "\n",
    "pd.options.display.max_rows = 999\n",
    "pd.options.display.max_columns = 999"
   ]
  },
  {
   "cell_type": "markdown",
   "id": "c950f52a",
   "metadata": {},
   "source": [
    "## Train Set"
   ]
  },
  {
   "cell_type": "code",
   "execution_count": 14,
   "id": "46ec9238",
   "metadata": {},
   "outputs": [],
   "source": [
    "train_df = pd.read_csv('/Users/voxxy/code/realGhostFoxx/droughts_modelling/raw_data/test_timeseries.csv')"
   ]
  },
  {
   "cell_type": "markdown",
   "id": "d8083b04",
   "metadata": {},
   "source": [
    "### Check for NaNs"
   ]
  },
  {
   "cell_type": "code",
   "execution_count": 15,
   "id": "ef5da6e5",
   "metadata": {},
   "outputs": [
    {
     "data": {
      "text/plain": [
       "fips                 0\n",
       "date                 0\n",
       "PRECTOT              0\n",
       "PS                   0\n",
       "QV2M                 0\n",
       "T2M                  0\n",
       "T2MDEW               0\n",
       "T2MWET               0\n",
       "T2M_MAX              0\n",
       "T2M_MIN              0\n",
       "T2M_RANGE            0\n",
       "TS                   0\n",
       "WS10M                0\n",
       "WS10M_MAX            0\n",
       "WS10M_MIN            0\n",
       "WS10M_RANGE          0\n",
       "WS50M                0\n",
       "WS50M_MAX            0\n",
       "WS50M_MIN            0\n",
       "WS50M_RANGE          0\n",
       "score          1945608\n",
       "dtype: int64"
      ]
     },
     "execution_count": 15,
     "metadata": {},
     "output_type": "execute_result"
    }
   ],
   "source": [
    "train_df.isnull().sum()"
   ]
  },
  {
   "cell_type": "markdown",
   "id": "a1bd0e63",
   "metadata": {},
   "source": [
    "### Check for nulls"
   ]
  },
  {
   "cell_type": "code",
   "execution_count": 16,
   "id": "19f47d4a",
   "metadata": {
    "scrolled": false
   },
   "outputs": [
    {
     "data": {
      "text/plain": [
       "fips                 0\n",
       "date                 0\n",
       "PRECTOT              0\n",
       "PS                   0\n",
       "QV2M                 0\n",
       "T2M                  0\n",
       "T2MDEW               0\n",
       "T2MWET               0\n",
       "T2M_MAX              0\n",
       "T2M_MIN              0\n",
       "T2M_RANGE            0\n",
       "TS                   0\n",
       "WS10M                0\n",
       "WS10M_MAX            0\n",
       "WS10M_MIN            0\n",
       "WS10M_RANGE          0\n",
       "WS50M                0\n",
       "WS50M_MAX            0\n",
       "WS50M_MIN            0\n",
       "WS50M_RANGE          0\n",
       "score          1945608\n",
       "dtype: int64"
      ]
     },
     "execution_count": 16,
     "metadata": {},
     "output_type": "execute_result"
    }
   ],
   "source": [
    "train_df.isna().sum()"
   ]
  },
  {
   "cell_type": "markdown",
   "id": "1f9ce423",
   "metadata": {},
   "source": [
    "### Check for duplicates"
   ]
  },
  {
   "cell_type": "code",
   "execution_count": 17,
   "id": "ab0c6dfd",
   "metadata": {
    "scrolled": true
   },
   "outputs": [
    {
     "data": {
      "text/plain": [
       "0"
      ]
     },
     "execution_count": 17,
     "metadata": {},
     "output_type": "execute_result"
    }
   ],
   "source": [
    "train_df.duplicated().sum()"
   ]
  },
  {
   "cell_type": "markdown",
   "id": "b093b1da",
   "metadata": {},
   "source": [
    "### Check unique values"
   ]
  },
  {
   "cell_type": "code",
   "execution_count": 18,
   "id": "9b1c6ee6",
   "metadata": {
    "scrolled": true
   },
   "outputs": [
    {
     "data": {
      "text/plain": [
       "fips            3108\n",
       "date             731\n",
       "PRECTOT         7020\n",
       "PS              3636\n",
       "QV2M            2205\n",
       "T2M             6805\n",
       "T2MDEW          6028\n",
       "T2MWET          5766\n",
       "T2M_MAX         7122\n",
       "T2M_MIN         6796\n",
       "T2M_RANGE       2666\n",
       "TS              7156\n",
       "WS10M           1493\n",
       "WS10M_MAX       1950\n",
       "WS10M_MIN       1189\n",
       "WS10M_RANGE     1625\n",
       "WS50M           1856\n",
       "WS50M_MAX       2377\n",
       "WS50M_MIN       1485\n",
       "WS50M_RANGE     1937\n",
       "score          24420\n",
       "dtype: int64"
      ]
     },
     "execution_count": 18,
     "metadata": {},
     "output_type": "execute_result"
    }
   ],
   "source": [
    "train_df.nunique()"
   ]
  },
  {
   "cell_type": "markdown",
   "id": "c1a0a706",
   "metadata": {},
   "source": [
    "## Validation Set"
   ]
  },
  {
   "cell_type": "code",
   "execution_count": null,
   "id": "a6b10a75",
   "metadata": {},
   "outputs": [],
   "source": [
    "val_df = pd.read_csv('/Users/voxxy/code/realGhostFoxx/droughts_modelling/raw_data/validation_timeseries.csv')"
   ]
  },
  {
   "cell_type": "markdown",
   "id": "df1adbac",
   "metadata": {},
   "source": [
    "### Check for NaNs"
   ]
  },
  {
   "cell_type": "code",
   "execution_count": null,
   "id": "70f44bad",
   "metadata": {},
   "outputs": [],
   "source": [
    "val_df.isnull().sum()"
   ]
  },
  {
   "cell_type": "markdown",
   "id": "e0e9f9db",
   "metadata": {},
   "source": [
    "### Check for nulls"
   ]
  },
  {
   "cell_type": "code",
   "execution_count": null,
   "id": "aa91dddb",
   "metadata": {},
   "outputs": [],
   "source": [
    "val_df.isna().sum()"
   ]
  },
  {
   "cell_type": "markdown",
   "id": "630f0016",
   "metadata": {},
   "source": [
    "### Check for duplicates"
   ]
  },
  {
   "cell_type": "code",
   "execution_count": null,
   "id": "0609f0f7",
   "metadata": {},
   "outputs": [],
   "source": [
    "val_df.duplicated().sum()"
   ]
  },
  {
   "cell_type": "markdown",
   "id": "bb85aa60",
   "metadata": {},
   "source": [
    "### Check unique values"
   ]
  },
  {
   "cell_type": "code",
   "execution_count": null,
   "id": "d46ddf5f",
   "metadata": {},
   "outputs": [],
   "source": [
    "val_df.nunique()"
   ]
  },
  {
   "cell_type": "markdown",
   "id": "96ffff3c",
   "metadata": {},
   "source": [
    "## Test Set"
   ]
  },
  {
   "cell_type": "code",
   "execution_count": null,
   "id": "db04f32c",
   "metadata": {},
   "outputs": [],
   "source": []
  },
  {
   "cell_type": "markdown",
   "id": "ab183f5b",
   "metadata": {},
   "source": [
    "### Check for NaNs"
   ]
  },
  {
   "cell_type": "code",
   "execution_count": null,
   "id": "57a52783",
   "metadata": {},
   "outputs": [],
   "source": []
  },
  {
   "cell_type": "markdown",
   "id": "45d98e81",
   "metadata": {},
   "source": [
    "### Check for nulls"
   ]
  },
  {
   "cell_type": "code",
   "execution_count": null,
   "id": "a69a516e",
   "metadata": {},
   "outputs": [],
   "source": []
  },
  {
   "cell_type": "markdown",
   "id": "16b23448",
   "metadata": {},
   "source": [
    "### Check for duplicates"
   ]
  },
  {
   "cell_type": "code",
   "execution_count": null,
   "id": "ad4200e8",
   "metadata": {},
   "outputs": [],
   "source": []
  },
  {
   "cell_type": "markdown",
   "id": "1293cbe5",
   "metadata": {},
   "source": [
    "### Check unique values"
   ]
  },
  {
   "cell_type": "code",
   "execution_count": 19,
   "id": "8d3a9589",
   "metadata": {},
   "outputs": [
    {
     "data": {
      "text/html": [
       "<div>\n",
       "<style scoped>\n",
       "    .dataframe tbody tr th:only-of-type {\n",
       "        vertical-align: middle;\n",
       "    }\n",
       "\n",
       "    .dataframe tbody tr th {\n",
       "        vertical-align: top;\n",
       "    }\n",
       "\n",
       "    .dataframe thead th {\n",
       "        text-align: right;\n",
       "    }\n",
       "</style>\n",
       "<table border=\"1\" class=\"dataframe\">\n",
       "  <thead>\n",
       "    <tr style=\"text-align: right;\">\n",
       "      <th></th>\n",
       "      <th>fips</th>\n",
       "      <th>date</th>\n",
       "      <th>PRECTOT</th>\n",
       "      <th>PS</th>\n",
       "      <th>QV2M</th>\n",
       "      <th>T2M</th>\n",
       "      <th>T2MDEW</th>\n",
       "      <th>T2MWET</th>\n",
       "      <th>T2M_MAX</th>\n",
       "      <th>T2M_MIN</th>\n",
       "      <th>T2M_RANGE</th>\n",
       "      <th>TS</th>\n",
       "      <th>WS10M</th>\n",
       "      <th>WS10M_MAX</th>\n",
       "      <th>WS10M_MIN</th>\n",
       "      <th>WS10M_RANGE</th>\n",
       "      <th>WS50M</th>\n",
       "      <th>WS50M_MAX</th>\n",
       "      <th>WS50M_MIN</th>\n",
       "      <th>WS50M_RANGE</th>\n",
       "      <th>score</th>\n",
       "    </tr>\n",
       "  </thead>\n",
       "  <tbody>\n",
       "    <tr>\n",
       "      <th>0</th>\n",
       "      <td>1001</td>\n",
       "      <td>2019-01-01</td>\n",
       "      <td>2.25</td>\n",
       "      <td>100.51</td>\n",
       "      <td>9.69</td>\n",
       "      <td>14.71</td>\n",
       "      <td>13.55</td>\n",
       "      <td>13.52</td>\n",
       "      <td>17.38</td>\n",
       "      <td>10.92</td>\n",
       "      <td>6.46</td>\n",
       "      <td>14.63</td>\n",
       "      <td>1.20</td>\n",
       "      <td>1.50</td>\n",
       "      <td>0.79</td>\n",
       "      <td>0.71</td>\n",
       "      <td>2.74</td>\n",
       "      <td>4.01</td>\n",
       "      <td>1.23</td>\n",
       "      <td>2.78</td>\n",
       "      <td>0.0</td>\n",
       "    </tr>\n",
       "    <tr>\n",
       "      <th>1</th>\n",
       "      <td>1001</td>\n",
       "      <td>2019-01-02</td>\n",
       "      <td>4.94</td>\n",
       "      <td>100.48</td>\n",
       "      <td>8.65</td>\n",
       "      <td>13.05</td>\n",
       "      <td>11.83</td>\n",
       "      <td>11.74</td>\n",
       "      <td>17.76</td>\n",
       "      <td>9.54</td>\n",
       "      <td>8.23</td>\n",
       "      <td>13.06</td>\n",
       "      <td>1.02</td>\n",
       "      <td>1.35</td>\n",
       "      <td>0.32</td>\n",
       "      <td>1.03</td>\n",
       "      <td>2.13</td>\n",
       "      <td>3.37</td>\n",
       "      <td>0.56</td>\n",
       "      <td>2.81</td>\n",
       "      <td>NaN</td>\n",
       "    </tr>\n",
       "    <tr>\n",
       "      <th>2</th>\n",
       "      <td>1001</td>\n",
       "      <td>2019-01-03</td>\n",
       "      <td>20.74</td>\n",
       "      <td>100.03</td>\n",
       "      <td>8.59</td>\n",
       "      <td>12.12</td>\n",
       "      <td>11.67</td>\n",
       "      <td>11.67</td>\n",
       "      <td>13.74</td>\n",
       "      <td>10.44</td>\n",
       "      <td>3.30</td>\n",
       "      <td>12.12</td>\n",
       "      <td>1.83</td>\n",
       "      <td>4.23</td>\n",
       "      <td>0.34</td>\n",
       "      <td>3.88</td>\n",
       "      <td>3.41</td>\n",
       "      <td>7.49</td>\n",
       "      <td>0.72</td>\n",
       "      <td>6.77</td>\n",
       "      <td>NaN</td>\n",
       "    </tr>\n",
       "    <tr>\n",
       "      <th>3</th>\n",
       "      <td>1001</td>\n",
       "      <td>2019-01-04</td>\n",
       "      <td>16.17</td>\n",
       "      <td>99.47</td>\n",
       "      <td>7.93</td>\n",
       "      <td>11.80</td>\n",
       "      <td>10.38</td>\n",
       "      <td>9.59</td>\n",
       "      <td>18.19</td>\n",
       "      <td>5.44</td>\n",
       "      <td>12.75</td>\n",
       "      <td>11.72</td>\n",
       "      <td>3.75</td>\n",
       "      <td>5.25</td>\n",
       "      <td>2.34</td>\n",
       "      <td>2.91</td>\n",
       "      <td>6.78</td>\n",
       "      <td>9.61</td>\n",
       "      <td>4.90</td>\n",
       "      <td>4.71</td>\n",
       "      <td>NaN</td>\n",
       "    </tr>\n",
       "    <tr>\n",
       "      <th>4</th>\n",
       "      <td>1001</td>\n",
       "      <td>2019-01-05</td>\n",
       "      <td>0.01</td>\n",
       "      <td>100.39</td>\n",
       "      <td>5.32</td>\n",
       "      <td>7.91</td>\n",
       "      <td>4.73</td>\n",
       "      <td>4.71</td>\n",
       "      <td>14.37</td>\n",
       "      <td>3.68</td>\n",
       "      <td>10.69</td>\n",
       "      <td>7.75</td>\n",
       "      <td>2.32</td>\n",
       "      <td>2.90</td>\n",
       "      <td>1.69</td>\n",
       "      <td>1.21</td>\n",
       "      <td>4.42</td>\n",
       "      <td>5.87</td>\n",
       "      <td>3.15</td>\n",
       "      <td>2.72</td>\n",
       "      <td>NaN</td>\n",
       "    </tr>\n",
       "  </tbody>\n",
       "</table>\n",
       "</div>"
      ],
      "text/plain": [
       "   fips        date  PRECTOT      PS  QV2M    T2M  T2MDEW  T2MWET  T2M_MAX  \\\n",
       "0  1001  2019-01-01     2.25  100.51  9.69  14.71   13.55   13.52    17.38   \n",
       "1  1001  2019-01-02     4.94  100.48  8.65  13.05   11.83   11.74    17.76   \n",
       "2  1001  2019-01-03    20.74  100.03  8.59  12.12   11.67   11.67    13.74   \n",
       "3  1001  2019-01-04    16.17   99.47  7.93  11.80   10.38    9.59    18.19   \n",
       "4  1001  2019-01-05     0.01  100.39  5.32   7.91    4.73    4.71    14.37   \n",
       "\n",
       "   T2M_MIN  T2M_RANGE     TS  WS10M  WS10M_MAX  WS10M_MIN  WS10M_RANGE  WS50M  \\\n",
       "0    10.92       6.46  14.63   1.20       1.50       0.79         0.71   2.74   \n",
       "1     9.54       8.23  13.06   1.02       1.35       0.32         1.03   2.13   \n",
       "2    10.44       3.30  12.12   1.83       4.23       0.34         3.88   3.41   \n",
       "3     5.44      12.75  11.72   3.75       5.25       2.34         2.91   6.78   \n",
       "4     3.68      10.69   7.75   2.32       2.90       1.69         1.21   4.42   \n",
       "\n",
       "   WS50M_MAX  WS50M_MIN  WS50M_RANGE  score  \n",
       "0       4.01       1.23         2.78    0.0  \n",
       "1       3.37       0.56         2.81    NaN  \n",
       "2       7.49       0.72         6.77    NaN  \n",
       "3       9.61       4.90         4.71    NaN  \n",
       "4       5.87       3.15         2.72    NaN  "
      ]
     },
     "execution_count": 19,
     "metadata": {},
     "output_type": "execute_result"
    }
   ],
   "source": [
    "train_df.head()"
   ]
  },
  {
   "cell_type": "code",
   "execution_count": 27,
   "id": "f5387096",
   "metadata": {},
   "outputs": [
    {
     "data": {
      "text/html": [
       "<div>\n",
       "<style scoped>\n",
       "    .dataframe tbody tr th:only-of-type {\n",
       "        vertical-align: middle;\n",
       "    }\n",
       "\n",
       "    .dataframe tbody tr th {\n",
       "        vertical-align: top;\n",
       "    }\n",
       "\n",
       "    .dataframe thead th {\n",
       "        text-align: right;\n",
       "    }\n",
       "</style>\n",
       "<table border=\"1\" class=\"dataframe\">\n",
       "  <thead>\n",
       "    <tr style=\"text-align: right;\">\n",
       "      <th></th>\n",
       "      <th></th>\n",
       "      <th></th>\n",
       "      <th>PRECTOT</th>\n",
       "    </tr>\n",
       "    <tr>\n",
       "      <th>year</th>\n",
       "      <th>week_num</th>\n",
       "      <th>fips</th>\n",
       "      <th></th>\n",
       "    </tr>\n",
       "  </thead>\n",
       "  <tbody>\n",
       "    <tr>\n",
       "      <th rowspan=\"5\" valign=\"top\">2019</th>\n",
       "      <th rowspan=\"5\" valign=\"top\">1</th>\n",
       "      <th>1001</th>\n",
       "      <td>7.351667</td>\n",
       "    </tr>\n",
       "    <tr>\n",
       "      <th>1003</th>\n",
       "      <td>6.246667</td>\n",
       "    </tr>\n",
       "    <tr>\n",
       "      <th>1005</th>\n",
       "      <td>7.148333</td>\n",
       "    </tr>\n",
       "    <tr>\n",
       "      <th>1007</th>\n",
       "      <td>7.445000</td>\n",
       "    </tr>\n",
       "    <tr>\n",
       "      <th>1009</th>\n",
       "      <td>7.113333</td>\n",
       "    </tr>\n",
       "    <tr>\n",
       "      <th>...</th>\n",
       "      <th>...</th>\n",
       "      <th>...</th>\n",
       "      <td>...</td>\n",
       "    </tr>\n",
       "    <tr>\n",
       "      <th rowspan=\"5\" valign=\"top\">2020</th>\n",
       "      <th rowspan=\"5\" valign=\"top\">53</th>\n",
       "      <th>56035</th>\n",
       "      <td>0.225000</td>\n",
       "    </tr>\n",
       "    <tr>\n",
       "      <th>56037</th>\n",
       "      <td>0.992500</td>\n",
       "    </tr>\n",
       "    <tr>\n",
       "      <th>56039</th>\n",
       "      <td>0.812500</td>\n",
       "    </tr>\n",
       "    <tr>\n",
       "      <th>56041</th>\n",
       "      <td>1.025000</td>\n",
       "    </tr>\n",
       "    <tr>\n",
       "      <th>56043</th>\n",
       "      <td>0.002500</td>\n",
       "    </tr>\n",
       "  </tbody>\n",
       "</table>\n",
       "<p>326340 rows × 1 columns</p>\n",
       "</div>"
      ],
      "text/plain": [
       "                      PRECTOT\n",
       "year week_num fips           \n",
       "2019 1        1001   7.351667\n",
       "              1003   6.246667\n",
       "              1005   7.148333\n",
       "              1007   7.445000\n",
       "              1009   7.113333\n",
       "...                       ...\n",
       "2020 53       56035  0.225000\n",
       "              56037  0.992500\n",
       "              56039  0.812500\n",
       "              56041  1.025000\n",
       "              56043  0.002500\n",
       "\n",
       "[326340 rows x 1 columns]"
      ]
     },
     "execution_count": 27,
     "metadata": {},
     "output_type": "execute_result"
    }
   ],
   "source": [
    "df['week_num'] = pd.to_datetime(df['date']).dt.isocalendar().week\n",
    "df['year'] = pd.to_datetime(df['date']).dt.isocalendar().year\n",
    "df.groupby(['year', 'week_num', 'fips']).agg({'PRECTOT': 'mean'})"
   ]
  },
  {
   "cell_type": "code",
   "execution_count": null,
   "id": "6f72dd64",
   "metadata": {},
   "outputs": [],
   "source": []
  }
 ],
 "metadata": {
  "kernelspec": {
   "display_name": "droughts",
   "language": "python",
   "name": "droughts"
  },
  "language_info": {
   "codemirror_mode": {
    "name": "ipython",
    "version": 3
   },
   "file_extension": ".py",
   "mimetype": "text/x-python",
   "name": "python",
   "nbconvert_exporter": "python",
   "pygments_lexer": "ipython3",
   "version": "3.8.6"
  },
  "toc": {
   "base_numbering": 1,
   "nav_menu": {},
   "number_sections": true,
   "sideBar": true,
   "skip_h1_title": false,
   "title_cell": "Table of Contents",
   "title_sidebar": "Contents",
   "toc_cell": false,
   "toc_position": {},
   "toc_section_display": true,
   "toc_window_display": false
  }
 },
 "nbformat": 4,
 "nbformat_minor": 5
}
