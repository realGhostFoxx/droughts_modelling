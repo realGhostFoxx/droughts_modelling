{
 "cells": [
  {
   "cell_type": "code",
   "execution_count": 1,
   "id": "09ea7ba0",
   "metadata": {},
   "outputs": [],
   "source": [
    "from droughts_modelling.data import DataFunctions"
   ]
  },
  {
   "cell_type": "code",
   "execution_count": null,
   "id": "feee539a",
   "metadata": {},
   "outputs": [],
   "source": [
    "data = DataFunctions().light_weekly_aggregate_train()"
   ]
  },
  {
   "cell_type": "code",
   "execution_count": null,
   "id": "09516911",
   "metadata": {},
   "outputs": [],
   "source": [
    "data"
   ]
  }
 ],
 "metadata": {
  "kernelspec": {
   "display_name": "droughts",
   "language": "python",
   "name": "droughts"
  },
  "language_info": {
   "codemirror_mode": {
    "name": "ipython",
    "version": 3
   },
   "file_extension": ".py",
   "mimetype": "text/x-python",
   "name": "python",
   "nbconvert_exporter": "python",
   "pygments_lexer": "ipython3",
   "version": "3.8.6"
  },
  "toc": {
   "base_numbering": 1,
   "nav_menu": {},
   "number_sections": true,
   "sideBar": true,
   "skip_h1_title": false,
   "title_cell": "Table of Contents",
   "title_sidebar": "Contents",
   "toc_cell": false,
   "toc_position": {},
   "toc_section_display": true,
   "toc_window_display": false
  }
 },
 "nbformat": 4,
 "nbformat_minor": 5
}
