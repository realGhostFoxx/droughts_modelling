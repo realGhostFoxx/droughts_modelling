{
 "cells": [
  {
   "cell_type": "code",
   "execution_count": 1,
   "id": "b442ed14",
   "metadata": {},
   "outputs": [],
   "source": [
    "%load_ext autoreload\n",
    "%autoreload 2"
   ]
  },
  {
   "cell_type": "code",
   "execution_count": 4,
   "id": "bc7f6c8b",
   "metadata": {},
   "outputs": [],
   "source": [
    "from droughts_modelling.data import DataFunctions"
   ]
  },
  {
   "cell_type": "code",
   "execution_count": null,
   "id": "f3c30384",
   "metadata": {},
   "outputs": [],
   "source": [
    "file_path = os.path.dirname(os.path.dirname(os.path.dirname(os.getcwd())))\n",
    "full_path_train = os.path.join(file_path,'realGhostFoxx','droughts_modelling', 'raw_data', 'train_timeseries.csv')\n",
    "full_path_validate = os.path.join(file_path,'realGhostFoxx','droughts_modelling', 'raw_data', 'validation_timeseries.csv')\n",
    "full_path_test = os.path.join(file_path,'realGhostFoxx','droughts_modelling', 'raw_data', 'test_timeseries.csv')\n",
    "\n",
    "df = pd.read_csv(full_path_train, skiprows = lambda x: )\n"
   ]
  },
  {
   "cell_type": "code",
   "execution_count": null,
   "id": "6272826a",
   "metadata": {},
   "outputs": [],
   "source": [
    "df.head()"
   ]
  }
 ],
 "metadata": {
  "kernelspec": {
   "display_name": "droughts",
   "language": "python",
   "name": "droughts"
  },
  "language_info": {
   "codemirror_mode": {
    "name": "ipython",
    "version": 3
   },
   "file_extension": ".py",
   "mimetype": "text/x-python",
   "name": "python",
   "nbconvert_exporter": "python",
   "pygments_lexer": "ipython3",
   "version": "3.8.6"
  },
  "toc": {
   "base_numbering": 1,
   "nav_menu": {},
   "number_sections": true,
   "sideBar": true,
   "skip_h1_title": false,
   "title_cell": "Table of Contents",
   "title_sidebar": "Contents",
   "toc_cell": false,
   "toc_position": {},
   "toc_section_display": true,
   "toc_window_display": false
  }
 },
 "nbformat": 4,
 "nbformat_minor": 5
}
